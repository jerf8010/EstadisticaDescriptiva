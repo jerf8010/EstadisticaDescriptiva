{
 "cells": [
  {
   "cell_type": "code",
   "execution_count": 2,
   "metadata": {},
   "outputs": [
    {
     "name": "stdout",
     "output_type": "stream",
     "text": [
      "Introduce un número: 5\n",
      "El número 5.0 es positivo\n"
     ]
    }
   ],
   "source": [
    "x=float(input(\"Introduce un número: \"))\n",
    "if x>0:\n",
    "    print(\"El número \"+str(x)+\" es positivo\")\n",
    "elif x==0:\n",
    "    print(\"El número es cero\")\n",
    "else:\n",
    "    print(\"El número \"+str(x)+\" es negativo\")"
   ]
  },
  {
   "cell_type": "code",
   "execution_count": 3,
   "metadata": {},
   "outputs": [
    {
     "name": "stdout",
     "output_type": "stream",
     "text": [
      "Introduce un número: 7\n",
      "El número 7.0 no está en el rango entre -5 y 5\n"
     ]
    }
   ],
   "source": [
    "y=float(input(\"Introduce un número: \"))\n",
    "if -5<=y and y<=5:\n",
    "    print(\"El número {} está en el rango entre -5 y 5\".format(y))\n",
    "else:\n",
    "    print(\"El número {} no está en el rango entre -5 y 5\".format(y))"
   ]
  },
  {
   "cell_type": "code",
   "execution_count": 6,
   "metadata": {},
   "outputs": [
    {
     "name": "stdout",
     "output_type": "stream",
     "text": [
      "Introduzca la coordenada x: -7\n",
      "Introduzca la coordenada y: -8\n",
      "El punto (-7.0,-8.0) está en el terecer cuadrante\n"
     ]
    }
   ],
   "source": [
    "x=float(input(\"Introduzca la coordenada x: \"))\n",
    "y=float(input(\"Introduzca la coordenada y: \"))\n",
    "\n",
    "if x>0 and y>0:\n",
    "    print(\"El punto ({},{}) está en el primer cuadrante\".format(x,y))\n",
    "\n",
    "elif x<0 and y>0:\n",
    "    print(\"El punto ({},{}) está en el segundo cuadrante\".format(x,y))\n",
    "\n",
    "elif x<0 and y<0:\n",
    "    print(\"El punto ({},{}) está en el terecer cuadrante\".format(x,y))\n",
    "\n",
    "elif x>0 and y<0:\n",
    "    print(\"El punto ({},{}) está en el cuarto cuadrante\".format(x,y))"
   ]
  },
  {
   "cell_type": "code",
   "execution_count": 8,
   "metadata": {},
   "outputs": [
    {
     "name": "stdout",
     "output_type": "stream",
     "text": [
      "Introduce el primer número: 8\n",
      "Introduce el segundo número: 3\n",
      "El cociente de la división entera es 2 y el resto es 2\n"
     ]
    }
   ],
   "source": [
    "a = int(input(\"Introduce el primer número: \"))\n",
    "b = int(input(\"Introduce el segundo número: \"))\n",
    "\n",
    "div_ent = a//b\n",
    "resto = a%b\n",
    "\n",
    "print(\"El cociente de la división entera es \"+str(div_ent)+\" y el resto es \"+str(resto))\n"
   ]
  },
  {
   "cell_type": "code",
   "execution_count": 19,
   "metadata": {},
   "outputs": [
    {
     "name": "stdout",
     "output_type": "stream",
     "text": [
      "Introduce un número: 25\n",
      "El número 25.0 es cuadrado perfecto\n"
     ]
    }
   ],
   "source": [
    "x = float(input(\"Introduce un número: \"))\n",
    "\n",
    "if x >= 0:\n",
    "    import math\n",
    "    y = math.sqrt(x)\n",
    "\n",
    "    parte_decimal, parte_entera = math.modf(y)\n",
    "\n",
    "    if y-parte_entera == 0:\n",
    "        print(\"El número {} es cuadrado perfecto\".format(x))\n",
    "    else:\n",
    "        print(\"El número {} no es cuadrado perfecto\".format(x))\n",
    "else:\n",
    "    print(\"El número {} es negativo y por lo tanto no es cuadrado perfecto\".format(x))"
   ]
  },
  {
   "cell_type": "code",
   "execution_count": 28,
   "metadata": {},
   "outputs": [
    {
     "name": "stdout",
     "output_type": "stream",
     "text": [
      "Introduce un año: 1968\n",
      "El año 1968  es bisiesto\n"
     ]
    }
   ],
   "source": [
    "a = int (input (\"Introduce un año: \"))\n",
    "if a % 4 == 0:\n",
    "    if a % 100 == 0:\n",
    "        if a % 400 == 0:\n",
    "            print(\"El año {} es bisiesto\".format(a))\n",
    "        else:\n",
    "            print(\"El año {} no es bisiesto\".format(a))\n",
    "    else:\n",
    "        print(\"El año {}  es bisiesto\".format(a))\n",
    "else:\n",
    "    (\"El año {} es bisiesto\".format(a))\n",
    "        "
   ]
  },
  {
   "cell_type": "code",
   "execution_count": 41,
   "metadata": {},
   "outputs": [
    {
     "name": "stdout",
     "output_type": "stream",
     "text": [
      "Introduce la casilla: b10\n",
      "Introduce una casilla valida\n"
     ]
    }
   ],
   "source": [
    "casilla = input(\"Introduce la casilla: \")\n",
    "letra= casilla[0]\n",
    "numero = casilla[1:]\n",
    "\n",
    "if letra >= \"a\" and letra <=\"h\" and int(numero)>=1 and int(numero)<=8:\n",
    "    if letra in \"aceg\" and numero in \"1357\":\n",
    "        print(\"La casilla {} es negra\".format(casilla))\n",
    "    else:\n",
    "        print(\"La casilla {} es blanca\".format(casilla))\n",
    "else:\n",
    "    print(\"Introduce una casilla valida\")\n",
    "    "
   ]
  },
  {
   "cell_type": "code",
   "execution_count": null,
   "metadata": {},
   "outputs": [],
   "source": []
  },
  {
   "cell_type": "code",
   "execution_count": null,
   "metadata": {},
   "outputs": [],
   "source": []
  }
 ],
 "metadata": {
  "kernelspec": {
   "display_name": "Python 3",
   "language": "python",
   "name": "python3"
  },
  "language_info": {
   "codemirror_mode": {
    "name": "ipython",
    "version": 3
   },
   "file_extension": ".py",
   "mimetype": "text/x-python",
   "name": "python",
   "nbconvert_exporter": "python",
   "pygments_lexer": "ipython3",
   "version": "3.8.5"
  }
 },
 "nbformat": 4,
 "nbformat_minor": 4
}
