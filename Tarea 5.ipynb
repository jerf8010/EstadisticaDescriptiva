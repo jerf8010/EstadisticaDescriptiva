{
 "cells": [
  {
   "cell_type": "code",
   "execution_count": 2,
   "metadata": {},
   "outputs": [
    {
     "name": "stdout",
     "output_type": "stream",
     "text": [
      "Las soluciones son : -2.0 y -2.0\n"
     ]
    }
   ],
   "source": [
    "import math\n",
    "\n",
    "def second_grade_equation(a,b,c):\n",
    "    x_1 = (-b + math.sqrt(b**2-4*a*c)) / (2 *a)\n",
    "    x_2 = (-b - math.sqrt(b**2-4*a*c)) / (2 *a)\n",
    "    print('Las soluciones son : {} y {}'.format(x_1,x_2))\n",
    "    \n",
    "    \n",
    "second_grade_equation(1,4,4)"
   ]
  },
  {
   "cell_type": "code",
   "execution_count": 10,
   "metadata": {},
   "outputs": [
    {
     "name": "stdout",
     "output_type": "stream",
     "text": [
      "Inserte una frase: la ruta nos aporto otro paso natural\n",
      "La frase es un palíndromo\n"
     ]
    }
   ],
   "source": [
    "phrase= input('Inserte una frase: ')\n",
    "phrase.lower()\n",
    "\n",
    "phrase_1 = phrase.replace(' ','')\n",
    "\n",
    "phrase_rev = phrase_1[::-1]\n",
    "\n",
    "if(phrase_1 == phrase_rev):\n",
    "    print('La frase es un palíndromo')\n",
    "else:\n",
    "    print('La frase no es un palíndromo')\n"
   ]
  },
  {
   "cell_type": "code",
   "execution_count": 13,
   "metadata": {},
   "outputs": [
    {
     "name": "stdout",
     "output_type": "stream",
     "text": [
      "{1: 1.0, 2: 1.4142135623730951, 3: 1.7320508075688772, 4: 2.0, 5: 2.23606797749979, 6: 2.449489742783178, 7: 2.6457513110645907, 8: 2.8284271247461903, 9: 3.0, 10: 3.1622776601683795}\n"
     ]
    }
   ],
   "source": [
    "dict = {item :math.sqrt(item) for item in range(1,11)}\n",
    "print(dict)"
   ]
  },
  {
   "cell_type": "code",
   "execution_count": 15,
   "metadata": {},
   "outputs": [
    {
     "name": "stdout",
     "output_type": "stream",
     "text": [
      "Ingrese una frase: hola\n",
      "....\n",
      "---\n",
      ".-..\n",
      ".-\n"
     ]
    }
   ],
   "source": [
    "morse = {'a' : '.-', \n",
    "         'b': '-...', \n",
    "         'c' : '-.-.',\n",
    "        'd': '-..',\n",
    "        'e': '.',\n",
    "        'f': '..-.',\n",
    "        'g': '--.',\n",
    "        'h': '....',\n",
    "        'i': '..',\n",
    "        'j': '.---',\n",
    "        'k': '-.-',\n",
    "        'l': '.-..',\n",
    "        'm': '--',\n",
    "        'n':'-.',\n",
    "        'o': '---',\n",
    "        'p':'.--.',\n",
    "        'q':'--.-',\n",
    "        'r':'.-.',\n",
    "        's':'...',\n",
    "        't':'-',\n",
    "        'u':'..-',\n",
    "        'v':'...-',\n",
    "        'w':'.--',\n",
    "        'x':'-..-',\n",
    "        'y':'-.--',\n",
    "        'z':'--..'}\n",
    "\n",
    "phra = input('Ingrese una frase: ')\n",
    "phra.lower()\n",
    "phr_1 = phra.replace(' ', '')\n",
    "\n",
    "for i in range(0, len(phr_1)):\n",
    "    print(morse[phr_1[i]])"
   ]
  }
 ],
 "metadata": {
  "kernelspec": {
   "display_name": "Python 3",
   "language": "python",
   "name": "python3"
  },
  "language_info": {
   "codemirror_mode": {
    "name": "ipython",
    "version": 3
   },
   "file_extension": ".py",
   "mimetype": "text/x-python",
   "name": "python",
   "nbconvert_exporter": "python",
   "pygments_lexer": "ipython3",
   "version": "3.8.5"
  }
 },
 "nbformat": 4,
 "nbformat_minor": 4
}
